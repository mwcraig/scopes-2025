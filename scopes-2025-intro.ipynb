{
 "cells": [
  {
   "cell_type": "markdown",
   "id": "0c6cb9b2-b138-4ede-8abd-96bef78563ca",
   "metadata": {
    "editable": true,
    "slideshow": {
     "slide_type": ""
    },
    "tags": []
   },
   "source": [
    "# Introduction to python and astronomy "
   ]
  },
  {
   "cell_type": "markdown",
   "id": "de3d434e-1726-4953-8e84-b7aa6ae5c146",
   "metadata": {
    "editable": true,
    "jp-MarkdownHeadingCollapsed": true,
    "slideshow": {
     "slide_type": "subslide"
    },
    "tags": []
   },
   "source": [
    "### by Matt Craig\n",
    "##### astropy core developer, (minor) contributor to astroquery, ccdproc developer,..."
   ]
  },
  {
   "cell_type": "markdown",
   "id": "2048cbf0-60ec-4876-9111-5b895a9966f2",
   "metadata": {
    "editable": true,
    "slideshow": {
     "slide_type": "slide"
    },
    "tags": []
   },
   "source": [
    "## Who this is aimed at?"
   ]
  },
  {
   "cell_type": "markdown",
   "id": "db73b6b9-b1a9-4369-a3cb-1dbcfbc55bbb",
   "metadata": {
    "editable": true,
    "slideshow": {
     "slide_type": "subslide"
    },
    "tags": []
   },
   "source": [
    "+ 65% of survey respondents have used python \"a bit\" or \"not at all\", and\n",
    "+ Only 10% have extensively used Python for astronomy, so\n",
    "+ mostly aimed at folks who are new to Python\n",
    "\n",
    "If you are experienced/want to work ahead then I'd recommend starting with the Astropy workshops at https://github.com/astropy/astropy-workshop/tree/main"
   ]
  },
  {
   "cell_type": "markdown",
   "id": "91c91fbb-b449-4f60-8a6e-3d1f4b76663d",
   "metadata": {
    "editable": true,
    "slideshow": {
     "slide_type": "slide"
    },
    "tags": []
   },
   "source": [
    "## Why Python?"
   ]
  },
  {
   "cell_type": "markdown",
   "id": "5478d1f8-b538-43cb-8d5a-c5e8fd285686",
   "metadata": {
    "editable": true,
    "slideshow": {
     "slide_type": "subslide"
    },
    "tags": []
   },
   "source": [
    "+ Lots of astronomy-specific packages\n",
    "+ Tons of non-astro, but useful, packages\n",
    "+ Easy to get help (stackoverflow, etc)\n",
    "+ Easy-ish to get help for astro-specific help"
   ]
  },
  {
   "cell_type": "markdown",
   "id": "1b4b086e-6540-40fb-8272-2cd0ceb9b727",
   "metadata": {
    "editable": true,
    "slideshow": {
     "slide_type": "slide"
    },
    "tags": []
   },
   "source": [
    "## What is Python?"
   ]
  },
  {
   "cell_type": "markdown",
   "id": "9813ed3f-f96e-4697-bed6-e0c371ac0de2",
   "metadata": {
    "editable": true,
    "slideshow": {
     "slide_type": "slide"
    },
    "tags": []
   },
   "source": [
    "+ Programming language\n",
    "+ Also used to refer to ways to install it, packages, ....\n",
    "+ Does NOT include any astronomy stuff\n",
    "+ Abilities are extended by installing \"packages\""
   ]
  },
  {
   "cell_type": "markdown",
   "id": "07a35e3e-05ca-4196-a12e-a897949b9aa2",
   "metadata": {
    "editable": true,
    "slideshow": {
     "slide_type": "slide"
    },
    "tags": []
   },
   "source": [
    "## What is a package?"
   ]
  },
  {
   "cell_type": "markdown",
   "id": "4e39f36e-e924-4953-9c5e-bdb58664cb4d",
   "metadata": {
    "editable": true,
    "slideshow": {
     "slide_type": "slide"
    },
    "tags": []
   },
   "source": [
    "### When you install python you get\n",
    "\n",
    "+ Python language\n",
    "+ Basic \"console\"\n",
    "+ Basic editor (do not use)\n",
    "+ Several \"modules\" that extend core language\n",
    "+ A way to install \"packages\"\n"
   ]
  },
  {
   "cell_type": "markdown",
   "id": "01ce4d01-a9e1-41ca-bb68-22a75eaa7340",
   "metadata": {
    "editable": true,
    "slideshow": {
     "slide_type": "slide"
    },
    "tags": []
   },
   "source": [
    "### A package is\n",
    "\n",
    "+ A collection of files written in Python (or C with python interface or rust with python interface or...),\n",
    "+ that you can install on your computer \"easily\",\n",
    "+ and use by \"import\""
   ]
  },
  {
   "cell_type": "markdown",
   "id": "d23d1cd8-0e68-480b-b54f-d19d7c77edaf",
   "metadata": {
    "editable": true,
    "slideshow": {
     "slide_type": "slide"
    },
    "tags": []
   },
   "source": [
    "## How do you get Python?\n",
    "\n",
    "### There are too many options\n",
    "\n",
    "1. miniforge (google \"miniforge install\")\n",
    "2. python.org has installation packages\n",
    "3. the Anaconda python distribution ❌\n",
    "4. pre-installed on your computer ❌❌❌❌ (don't do this)"
   ]
  },
  {
   "cell_type": "markdown",
   "id": "09ea9a99-c80c-47f9-9012-2a82a2181050",
   "metadata": {
    "editable": true,
    "slideshow": {
     "slide_type": "slide"
    },
    "tags": []
   },
   "source": [
    "## How do you install packages?\n",
    "\n",
    "1. Depends on how you installed python, but\n",
    "2. Open a terminal\n",
    "3. `pip install ...` will typically work, e.g. `pip install astropy`\n",
    "4. `mamba install ...` works if you install `miniforge`, e.g. `mamba install astropy`"
   ]
  },
  {
   "cell_type": "markdown",
   "id": "e8575264-5114-4f66-ba33-6b71b9cdfead",
   "metadata": {
    "editable": true,
    "slideshow": {
     "slide_type": "slide"
    },
    "tags": []
   },
   "source": [
    "## PYTHON INSTALLATIONS CAN BE VERY FRAGILE\n",
    "\n",
    "1. `pip` lets you install a package from anyone\n",
    "2. stuff gets out of date\n",
    "3. an update to one package can break another\n",
    "4. two packages can require two different versions of the same thrid package, which is not possible to do."
   ]
  },
  {
   "cell_type": "markdown",
   "id": "c9f85aa0-8d1c-490b-bc91-1a2712b7a57f",
   "metadata": {
    "editable": true,
    "slideshow": {
     "slide_type": "slide"
    },
    "tags": []
   },
   "source": [
    "## Fragility fix: use \"environment\"s\n",
    "\n",
    "+ An environment is a lightweight \"copy\" of your python installation.\n",
    "+ If an environment gets messed up you just delete it\n",
    "+ Can make differnet environments for different purposes\n",
    "+ How to make an environment depends on how you installed python.\n",
    "    + conda/mamba makes it easy to make/manage environments\n",
    "    + python has other built-in ways to make and manage envs\n",
    "+ Minimal approach is to make at least one environment "
   ]
  },
  {
   "cell_type": "markdown",
   "id": "d0f3f6de-bdb0-4867-927b-bdd968d69f56",
   "metadata": {
    "editable": true,
    "jp-MarkdownHeadingCollapsed": true,
    "slideshow": {
     "slide_type": "slide"
    },
    "tags": []
   },
   "source": [
    "## Go here\n",
    "\n",
    "+ https://bit.ly/scopes-py\n",
    "\n",
    "![binder](bit.ly_scopes-py.png)"
   ]
  },
  {
   "cell_type": "code",
   "execution_count": null,
   "id": "03839067-6cac-4f01-b338-d967b7ac9fa3",
   "metadata": {},
   "outputs": [],
   "source": []
  }
 ],
 "metadata": {
  "kernelspec": {
   "display_name": "Python 3 (ipykernel)",
   "language": "python",
   "name": "python3"
  },
  "language_info": {
   "codemirror_mode": {
    "name": "ipython",
    "version": 3
   },
   "file_extension": ".py",
   "mimetype": "text/x-python",
   "name": "python",
   "nbconvert_exporter": "python",
   "pygments_lexer": "ipython3",
   "version": "3.12.11"
  }
 },
 "nbformat": 4,
 "nbformat_minor": 5
}
